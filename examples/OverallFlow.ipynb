{
 "cells": [
  {
   "cell_type": "markdown",
   "metadata": {},
   "source": [
    "Set the working directory to the EMFieldML directory."
   ]
  },
  {
   "cell_type": "code",
   "execution_count": null,
   "metadata": {},
   "outputs": [],
   "source": [
    "import os\n",
    "import sys\n",
    "from pathlib import Path\n",
    "\n",
    "# Add the project root to Python path\n",
    "project_root = Path(__file__).parent.parent if '__file__' in globals() else Path.cwd().parent\n",
    "sys.path.insert(0, str(project_root))\n",
    "\n",
    "# Change to project root directory\n",
    "os.chdir(project_root)"
   ]
  },
  {
   "cell_type": "code",
   "execution_count": null,
   "metadata": {},
   "outputs": [],
   "source": [
    "# Clean imports from main package\n",
    "from EMFieldML import (\n",
    "    ActiveLearning,\n",
    "    Decide6points,\n",
    "    FekoRunner,\n",
    "    FieldGPRegressor,\n",
    "    TargetDataBuilder,\n",
    "    PolyCubeMaker,\n",
    "    Visualize,\n",
    "    config,\n",
    "    paths,\n",
    "    template\n",
    ")\n",
    "\n",
    "# Import Utils classes directly (not available in main package due to circular dependencies)\n",
    "from EMFieldML.Utils.DataSelect import DataSelect\n",
    "from EMFieldML.Utils.ShieldModeler import ShieldModeler"
   ]
  },
  {
   "cell_type": "code",
   "execution_count": null,
   "metadata": {},
   "outputs": [],
   "source": [
    "config.show_attrs()"
   ]
  },
  {
   "cell_type": "code",
   "execution_count": null,
   "metadata": {},
   "outputs": [],
   "source": [
    "paths.show_attrs()"
   ]
  },
  {
   "cell_type": "code",
   "execution_count": null,
   "metadata": {},
   "outputs": [],
   "source": [
    "template.show_attrs()"
   ]
  },
  {
   "cell_type": "markdown",
   "metadata": {},
   "source": [
    "# Make shields\n",
    "Generate parameters for all the shields and positions to be created, and based on these parameters, create the STL files for the shields."
   ]
  },
  {
   "cell_type": "markdown",
   "metadata": {},
   "source": [
    "### Make the shield parameter\n",
    "Generate parameters for all the shields (372 types).\n",
    "\n",
    "Additionally, data will be generated at 169 different positions for each shield.\n",
    "\n",
    "Generated shield parameters will be saved in data/circle."
   ]
  },
  {
   "cell_type": "code",
   "execution_count": null,
   "metadata": {},
   "outputs": [],
   "source": [
    "ShieldModeler.make_shield_coordinate()"
   ]
  },
  {
   "cell_type": "markdown",
   "metadata": {},
   "source": [
    "### Create the STL file for the shield\n",
    "Create STL files for the shields using FEKO based on the generated shield parameters.\n",
    "\n",
    "In an environment with FEKO installed, running this will allow you to execute a Lua file from a Python file and create an STL file in FEKO.\n",
    "\n",
    "Generated STL files will be saved in data/stl."
   ]
  },
  {
   "cell_type": "code",
   "execution_count": null,
   "metadata": {},
   "outputs": [],
   "source": [
    "FekoRunner.make_stl_list()"
   ]
  },
  {
   "cell_type": "markdown",
   "metadata": {},
   "source": [
    "The coil shape is fixed, but an STL file needs to be created for later visualization. As with the above, execute this in an environment with FEKO. \n",
    "\n",
    "The generated file will be saved in data/stl."
   ]
  },
  {
   "cell_type": "code",
   "execution_count": null,
   "metadata": {},
   "outputs": [],
   "source": [
    "FekoRunner.make_coil_stl()"
   ]
  },
  {
   "cell_type": "markdown",
   "metadata": {},
   "source": [
    "# Make initial simulated data\n",
    "Select the initial data for the training dataset, and perform simulations using FEKO on these data to obtain electromagnetic field data."
   ]
  },
  {
   "cell_type": "markdown",
   "metadata": {},
   "source": [
    "### Select initial 744 data\n",
    "Select the initial data for training dataset.\n",
    "\n",
    "The initial data were selected by choosing each shield twice at regular intervals."
   ]
  },
  {
   "cell_type": "code",
   "execution_count": null,
   "metadata": {},
   "outputs": [],
   "source": [
    "DataSelect.generate_x_train_init()\n",
    "\n",
    "DataSelect.generate_x_test_init()"
   ]
  },
  {
   "cell_type": "markdown",
   "metadata": {},
   "source": [
    "### Simulate initial data\n",
    "Perform simulations using FEKO on these data to obtain electromagnetic field data.\n",
    "\n",
    "Execute this in an environment with FEKO. "
   ]
  },
  {
   "cell_type": "code",
   "execution_count": null,
   "metadata": {},
   "outputs": [],
   "source": [
    "load_training_number_file_name = paths.TRAIN_DIR / template.x_train_init\n",
    "x_train_list = []\n",
    "with open(load_training_number_file_name) as f:\n",
    "    for num in f:\n",
    "        x_train_list.append(int(num))\n",
    "\n",
    "FekoRunner.run_simulation_list(x_train_list)"
   ]
  },
  {
   "cell_type": "markdown",
   "metadata": {},
   "source": [
    "# Make PolyCube mesh and Exterior Grid\n",
    "Create PolyCube meshes and Exterior Grid.\n",
    "Convert PolyCube meshes to x_data so that it can be used for training.\n",
    "In addition, convert Exterior Grid to all position version."
   ]
  },
  {
   "cell_type": "code",
   "execution_count": null,
   "metadata": {},
   "outputs": [],
   "source": [
    "# It takes about 30 seconds to run this code as one shield shape.\n",
    "# If you want to test this, I recommend to change n_shield_shape to 1.\n",
    "# There is still a minor bug in the way points are taken, so any anomalies will need to be manually corrected, but most shield shapes work without issues.\n",
    "\n",
    "PolyCubeMaker.make_modeling_all(n_shield_shape = 1)"
   ]
  },
  {
   "cell_type": "markdown",
   "metadata": {},
   "source": [
    "From a single shield shape's PolyCube mesh, we create 169 x_data."
   ]
  },
  {
   "cell_type": "code",
   "execution_count": null,
   "metadata": {},
   "outputs": [],
   "source": [
    "PolyCubeMaker.move_shield_polycube_all(n_shield_shape = 1)"
   ]
  },
  {
   "cell_type": "markdown",
   "metadata": {},
   "source": [
    "Output exterior grid for need positions in init learning."
   ]
  },
  {
   "cell_type": "code",
   "execution_count": null,
   "metadata": {},
   "outputs": [],
   "source": [
    "# Create the Exterior Grid when the coil is moved from the reference position's Exterior Grid.\n",
    "\n",
    "PolyCubeMaker.move_shield_exterior_need()"
   ]
  },
  {
   "cell_type": "markdown",
   "metadata": {},
   "source": [
    "# Active learning \n",
    "We perform active learning. In active learning, data is collected based on 6 prediction points. First, we select these six points, and then we perform active learning."
   ]
  },
  {
   "cell_type": "markdown",
   "metadata": {},
   "source": [
    "## Select 6 points\n",
    "Select 6 points for active learning."
   ]
  },
  {
   "cell_type": "markdown",
   "metadata": {},
   "source": [
    "### Create patterns\n",
    "Create patterns to classify points. This classification is based on the grouping of coordinates. Ensure that the six selected points are not chosen from the same pattern."
   ]
  },
  {
   "cell_type": "code",
   "execution_count": null,
   "metadata": {},
   "outputs": [],
   "source": [
    "Decide6points.make_pattern_list()"
   ]
  },
  {
   "cell_type": "markdown",
   "metadata": {},
   "source": [
    "### Make y_data of initial data\n",
    "Create y_data from the results of the first 744 simulation data points."
   ]
  },
  {
   "cell_type": "code",
   "execution_count": null,
   "metadata": {},
   "outputs": [],
   "source": [
    "train_list_path = paths.TRAIN_DIR / template.x_train_init\n",
    "\n",
    "with open(train_list_path) as f:\n",
    "    x_train_list = [int(s.rstrip()) for s in f.readlines()]\n",
    "\n",
    "TargetDataBuilder.make_new_ydatafile(\n",
    "    x_train_list,\n",
    "    paths.Y_DATA_FOR_ACTIVE_LEARNING_DIR,\n",
    "    prediction_point_list = list(range(config.n_prediction_points_level1)),\n",
    "    n_prediction_points = config.n_prediction_points_level1,\n",
    "    )"
   ]
  },
  {
   "cell_type": "markdown",
   "metadata": {},
   "source": [
    "### Make learning model for each points\n",
    "Create a learning model for each prediction point. \n",
    "\n",
    "The number of prediction points is 756 for grid level 1.\n",
    "\n",
    "The models are created with the same parameters."
   ]
  },
  {
   "cell_type": "code",
   "execution_count": null,
   "metadata": {},
   "outputs": [],
   "source": [
    "Decide6points.make_learning_model_all()"
   ]
  },
  {
   "cell_type": "markdown",
   "metadata": {},
   "source": [
    "### Make deviation result by predicting magnetic field at each prediction point\n",
    "Calculate the deviation of the remaining unlabelled data using the trained model for all prediction points.\n",
    "\n",
    "It takes about 5 min for each point. Separating the points and doing by two or more computers is recommendation."
   ]
  },
  {
   "cell_type": "code",
   "execution_count": null,
   "metadata": {},
   "outputs": [],
   "source": [
    "Decide6points.predict_deviation_all()"
   ]
  },
  {
   "cell_type": "markdown",
   "metadata": {},
   "source": [
    "Check the deviation result and select the 6 prediction points for active learning."
   ]
  },
  {
   "cell_type": "code",
   "execution_count": null,
   "metadata": {},
   "outputs": [],
   "source": [
    "Decide6points.check_deviation()\n",
    "\n",
    "# Selected point: 210  (Pattern: 12, Deviation: 2.886390965722237)\n",
    "# Selected point: 540  (Pattern: 14, Deviation: 2.8818332883404496)\n",
    "# Selected point: 276  (Pattern: 13, Deviation: 2.878365070348852)\n",
    "# Selected point: 266  (Pattern: 10, Deviation: 2.8388720402344605)\n",
    "# Selected point: 327  (Pattern: 19, Deviation: 2.7751982909967725)\n",
    "# Selected point: 128  (Pattern: 3, Deviation: 2.6908574137764703)"
   ]
  },
  {
   "cell_type": "markdown",
   "metadata": {},
   "source": [
    "## Active Learning\n",
    "Perform Active Learning until the data reaches 1488 samples.\n",
    "Execute this in an environment with FEKO. "
   ]
  },
  {
   "cell_type": "code",
   "execution_count": null,
   "metadata": {},
   "outputs": [],
   "source": [
    "ActiveLearning.uncertainly_sampling()"
   ]
  },
  {
   "cell_type": "markdown",
   "metadata": {},
   "source": [
    "After active learning, `x_train.txt` and `x_test.txt` were saved as `x_train_after_active_learning.txt` and `x_test_after_active_learning.txt`, respectively."
   ]
  },
  {
   "cell_type": "markdown",
   "metadata": {},
   "source": [
    "# Learning\n",
    "Train a model using data selected through Active Learning."
   ]
  },
  {
   "cell_type": "markdown",
   "metadata": {},
   "source": [
    "### Make y data\n",
    "Create the y_data for the data obtained after Active Learning."
   ]
  },
  {
   "cell_type": "code",
   "execution_count": null,
   "metadata": {},
   "outputs": [],
   "source": [
    "train_list_path = paths.TRAIN_DIR / template.x_train_after_active_learning\n",
    "\n",
    "with open(train_list_path) as f:\n",
    "    x_train_list = [int(s.rstrip()) for s in f.readlines()]\n",
    "\n",
    "TargetDataBuilder.make_new_ydatafile(x_train_list, paths.Y_DATA_DIR)\n",
    "\n",
    "TargetDataBuilder.make_new_ydatafile_vector(x_train_list, paths.Y_DATA_DIR)\n",
    "\n",
    "TargetDataBuilder.make_new_ydatafile_efficiency(x_train_list, paths.Y_DATA_DIR)"
   ]
  },
  {
   "cell_type": "markdown",
   "metadata": {},
   "source": [
    "### Make model for efficiency\n",
    "Create a model for efficiency."
   ]
  },
  {
   "cell_type": "code",
   "execution_count": null,
   "metadata": {},
   "outputs": [],
   "source": [
    "input_path_train_list = paths.TRAIN_DIR / template.x_train_after_active_learning\n",
    "x_train_data = FieldGPRegressor.make_x_train_data(input_path_train_list)\n",
    "input_path_y_data = paths.Y_DATA_DIR / template.y_data_efficiency\n",
    "output_path = paths.LEARNING_MODEL_DIR / template.model\n",
    "FieldGPRegressor.learning_magneticfield(input_path_y_data, output_path, x_train_data, lr_record = 0.015, iter_record = 2000, inter_record = 800, small_record = 5.0, initial_noise = 1e-4)"
   ]
  },
  {
   "cell_type": "markdown",
   "metadata": {},
   "source": [
    "# Visualize\n",
    "Visualize the shield and its magnetic field, and make it interactive."
   ]
  },
  {
   "cell_type": "code",
   "execution_count": null,
   "metadata": {},
   "outputs": [],
   "source": [
    "shield_number = 90\n",
    "visualize = Visualize(shield_number)\n",
    "visualize.visualize()"
   ]
  }
 ],
 "metadata": {
  "kernelspec": {
   "display_name": "emfieldml-itZ_loVF-py3.11",
   "language": "python",
   "name": "python3"
  },
  "language_info": {
   "codemirror_mode": {
    "name": "ipython",
    "version": 3
   },
   "file_extension": ".py",
   "mimetype": "text/x-python",
   "name": "python",
   "nbconvert_exporter": "python",
   "pygments_lexer": "ipython3",
   "version": "3.11.0"
  }
 },
 "nbformat": 4,
 "nbformat_minor": 2
}
