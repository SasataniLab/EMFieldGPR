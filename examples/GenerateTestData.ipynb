{
 "cells": [
  {
   "cell_type": "code",
   "execution_count": 1,
   "metadata": {},
   "outputs": [],
   "source": [
    "import os\n",
    "import sys\n",
    "from pathlib import Path\n",
    "\n",
    "# Add the project root to Python path\n",
    "project_root = Path(__file__).parent.parent if '__file__' in globals() else Path.cwd().parent\n",
    "sys.path.insert(0, str(project_root))\n",
    "\n",
    "# Change to project root directory\n",
    "os.chdir(project_root)"
   ]
  },
  {
   "cell_type": "code",
   "execution_count": 2,
   "metadata": {},
   "outputs": [],
   "source": [
    "from pathlib import Path\n",
    "\n",
    "import numpy as np\n",
    "\n",
    "# Clean imports from main package - everything needed is now available!\n",
    "from EMFieldML import (\n",
    "    FekoRunner,\n",
    "    Learning,\n",
    "    TargetDataBuilder,\n",
    "    PolyCubeMaker,\n",
    "    Visualize,\n",
    "    config,\n",
    "    paths,\n",
    "    template,\n",
    "    get_logger,\n",
    "    GraphMaker,\n",
    "    MakeYData,\n",
    "    ResultMaker,\n",
    "    TestMaker,\n",
    "    Prediction\n",
    ")\n",
    "\n",
    "logger = get_logger(__name__)"
   ]
  },
  {
   "cell_type": "markdown",
   "metadata": {},
   "source": [
    "# Genarate test data\n",
    "This notebook creates test data for evaluating the predictions."
   ]
  },
  {
   "cell_type": "markdown",
   "metadata": {},
   "source": [
    "### Make parameter of test data"
   ]
  },
  {
   "cell_type": "code",
   "execution_count": 3,
   "metadata": {},
   "outputs": [],
   "source": [
    "TestMaker.make_test_shield_coordinate()"
   ]
  },
  {
   "cell_type": "code",
   "execution_count": null,
   "metadata": {},
   "outputs": [],
   "source": [
    "x_train_list = list(range(1,config.n_test_data+1))\n",
    "output_path = paths.TEST_DATA_DIR / template.x_test\n",
    "with open(output_path, \"w\") as f:\n",
    "    for i in x_train_list:\n",
    "        print(i, file=f)\n",
    "\n",
    "logger.info(f\"Saved {output_path}\")"
   ]
  },
  {
   "cell_type": "markdown",
   "metadata": {},
   "source": [
    "### Simulate test data\n",
    "Simulate test data for getting the magnetic field data."
   ]
  },
  {
   "cell_type": "code",
   "execution_count": null,
   "metadata": {},
   "outputs": [],
   "source": [
    "x_train_list = list(range(1,config.n_test_data+1))\n",
    "\n",
    "FekoRunner.run_simulation_test_list(x_train_list)"
   ]
  },
  {
   "cell_type": "markdown",
   "metadata": {},
   "source": [
    "### Make STL of test data\n",
    "Make STL file for making x_data"
   ]
  },
  {
   "cell_type": "code",
   "execution_count": null,
   "metadata": {},
   "outputs": [],
   "source": [
    "FekoRunner.make_stl_test_list()"
   ]
  },
  {
   "cell_type": "markdown",
   "metadata": {},
   "source": [
    "### Make x_data of test data\n",
    "Make x_data. \n",
    "\n",
    "Model the test data and create a PolyCube mesh and an Exterior Grid.\n",
    "However, this is created with the initial positions."
   ]
  },
  {
   "cell_type": "code",
   "execution_count": null,
   "metadata": {},
   "outputs": [],
   "source": [
    "PolyCubeMaker.make_modeling_all(\n",
    "            n_shield_shape = config.n_test_data,\n",
    "            path_stl_dir = paths.TEST_CIRCLE_STL_DIR,\n",
    "            path_stl_file = template.test_circle_stl,\n",
    "            path_polycube_dir = paths.TEST_CIRCLE_MOVE_X_DIR,\n",
    "            path_polycube_file = template.test_circle_x,\n",
    "            path_exterior_dir = paths.TEST_CIRCLE_PREDICTION_POINT_DIR,\n",
    "            path_exterior_file = template.test_circle_prediction_point,\n",
    "            )"
   ]
  },
  {
   "cell_type": "markdown",
   "metadata": {},
   "source": [
    "To create the x_data from the PolyCube mesh, we incorporate the positional information."
   ]
  },
  {
   "cell_type": "code",
   "execution_count": null,
   "metadata": {},
   "outputs": [],
   "source": [
    "\n",
    "PolyCubeMaker.move_shield_polycube_all(\n",
    "            n_shield_shape = config.n_test_data,\n",
    "            path_polycube_dir = paths.TEST_CIRCLE_MOVE_X_DIR,\n",
    "            path_polycube_file = template.test_circle_x,\n",
    "            path_output_dir = paths.TEST_CIRCLE_MOVE_X_DIR,\n",
    "            path_output_file = template.test_circle_move,\n",
    "            )"
   ]
  },
  {
   "cell_type": "markdown",
   "metadata": {},
   "source": [
    "Convert the initial Exterior Grid into an Exterior Grid that incorporates positional coordinates."
   ]
  },
  {
   "cell_type": "code",
   "execution_count": null,
   "metadata": {},
   "outputs": [],
   "source": [
    "\n",
    "for number in range(1,config.n_test_data+1):\n",
    "    input_path_polycube = paths.TEST_CIRCLE_MOVE_X_DIR / template.test_circle_x.format(index=number)\n",
    "    input_path_exterior = paths.TEST_CIRCLE_PREDICTION_POINT_DIR / template.test_circle_prediction_point.format(index=number)\n",
    "\n",
    "    with open(paths.TEST_CIRCLE_MOVE_X_DIR / template.test_circle_move.format(index = number)) as f:\n",
    "        l_strip = [float(s.rstrip()) for s in f.readlines()]\n",
    "\n",
    "    PolyCubeMaker.move_shield_exterior(\n",
    "        input_path_polycube = input_path_polycube,\n",
    "        input_path_exterior = input_path_exterior,\n",
    "        number = number,\n",
    "        y = l_strip[-2],\n",
    "        z = l_strip[-1],\n",
    "        output_path_dir = paths.TEST_CIRCLE_PREDICTION_POINT_DIR,\n",
    "        output_path_file = template.test_circle_prediction_point_move,\n",
    "        )"
   ]
  },
  {
   "cell_type": "markdown",
   "metadata": {},
   "source": [
    "### Make y_data of test data\n",
    "Make y_data from Exterior Grid and simulated data."
   ]
  },
  {
   "cell_type": "code",
   "execution_count": null,
   "metadata": {},
   "outputs": [],
   "source": [
    "x_train_list = list(range(1,config.n_test_data+1))\n",
    "\n",
    "TargetDataBuilder.make_new_ydatafile(\n",
    "            x_train_list = x_train_list,\n",
    "            output_dir = paths.TEST_Y_DATA_DIR,\n",
    "            input_path_raw_data_dir = paths.TEST_CIRCLE_FEKO_RAW_DIR,\n",
    "            input_path_prediction_point_dir = paths.TEST_CIRCLE_PREDICTION_POINT_DIR,\n",
    "            input_path_prediction_point_file = template.test_circle_prediction_point_move,\n",
    "            )\n",
    "\n",
    "TargetDataBuilder.make_new_ydatafile_vector(\n",
    "            x_train_list = x_train_list,\n",
    "            output_dir = paths.TEST_Y_DATA_DIR,\n",
    "            input_path_raw_data_dir = paths.TEST_CIRCLE_FEKO_RAW_DIR,\n",
    "            input_path_prediction_point_dir = paths.TEST_CIRCLE_PREDICTION_POINT_DIR,\n",
    "            input_path_prediction_point_file = template.test_circle_prediction_point_move,\n",
    "            )\n",
    "\n",
    "TargetDataBuilder.make_new_ydatafile_efficiency(\n",
    "            x_train_list = x_train_list,\n",
    "            output_dir = paths.TEST_Y_DATA_DIR,\n",
    "            input_path_raw_data_dir = paths.TEST_CIRCLE_FEKO_RAW_DIR,\n",
    "            )"
   ]
  },
  {
   "cell_type": "markdown",
   "metadata": {},
   "source": [
    "## Make N change Result\n",
    "Perform validation of the deviation when changing number of train data and the estimation error using test data."
   ]
  },
  {
   "cell_type": "code",
   "execution_count": null,
   "metadata": {},
   "outputs": [],
   "source": [
    "selected_prediction_point_list = config.selected_points\n",
    "\n",
    "for number in selected_prediction_point_list:\n",
    "    ResultMaker.make_N_change_deviation(number)\n",
    "    ResultMaker.make_N_change_error(number)\n"
   ]
  },
  {
   "cell_type": "code",
   "execution_count": null,
   "metadata": {},
   "outputs": [],
   "source": [
    "\n",
    "ResultMaker.sort_N_change_data()"
   ]
  },
  {
   "cell_type": "code",
   "execution_count": null,
   "metadata": {},
   "outputs": [],
   "source": [
    "GraphMaker.N_change_deviation()"
   ]
  },
  {
   "cell_type": "code",
   "execution_count": null,
   "metadata": {},
   "outputs": [],
   "source": [
    "GraphMaker.N_change_error()"
   ]
  },
  {
   "cell_type": "code",
   "execution_count": null,
   "metadata": {},
   "outputs": [],
   "source": [
    "GraphMaker.Active_learning_map(paths.TRAIN_DIR / template.x_train_init, config.n_initial_train_data)\n",
    "GraphMaker.Active_learning_map(paths.TRAIN_DIR / template.x_train_after_active_learning, config.n_train_data)\n"
   ]
  },
  {
   "cell_type": "markdown",
   "metadata": {},
   "source": [
    "## Make cross validation result\n",
    "Create a comparison of exterior grid and GPR optimization performed through cross validation."
   ]
  },
  {
   "cell_type": "markdown",
   "metadata": {},
   "source": [
    "### Make pattern for cross validation"
   ]
  },
  {
   "cell_type": "code",
   "execution_count": null,
   "metadata": {},
   "outputs": [],
   "source": [
    "ResultMaker.cross_validation_pattern()"
   ]
  },
  {
   "cell_type": "markdown",
   "metadata": {},
   "source": [
    "### Make y_data of each pattern"
   ]
  },
  {
   "cell_type": "code",
   "execution_count": null,
   "metadata": {},
   "outputs": [],
   "source": [
    "for index in range(1,config.n_cross_validation+1):\n",
    "\n",
    "    train_list_path = Path(str(paths.RESULT_CROSS_PATTERN_DIR).format(index = index)) / template.x_train\n",
    "    test_list_path = Path(str(paths.RESULT_CROSS_PATTERN_DIR).format(index = index)) / template.x_test\n",
    "\n",
    "    with open(train_list_path) as f:\n",
    "        x_train_list = [int(s.rstrip()) for s in f.readlines()]\n",
    "\n",
    "    with open(test_list_path) as f:\n",
    "        x_test_list = [int(s.rstrip()) for s in f.readlines()]\n",
    "\n",
    "    TargetDataBuilder.make_new_ydatafile(\n",
    "                x_train_list = x_train_list,\n",
    "                output_dir = Path(str(paths.RESULT_CROSS_PATTERN_DIR).format(index = index)) / paths.Y_DATA,\n",
    "                prediction_point_list = list(range(config.n_prediction_points_level2)),\n",
    "                n_prediction_points = config.n_prediction_points_level2,\n",
    "                )\n",
    "\n",
    "    TargetDataBuilder.make_new_ydatafile(\n",
    "                x_train_list = x_test_list,\n",
    "                output_dir = Path(str(paths.RESULT_CROSS_PATTERN_DIR).format(index = index)) / paths.TEST_Y_DATA,\n",
    "                )\n",
    "\n",
    "    TargetDataBuilder.make_new_ydatafile_vector(\n",
    "                x_train_list = x_train_list,\n",
    "                output_dir = Path(str(paths.RESULT_CROSS_PATTERN_DIR).format(index = index)) / paths.Y_DATA,\n",
    "                )\n",
    "\n",
    "    TargetDataBuilder.make_new_ydatafile_vector(\n",
    "                x_train_list = x_test_list,\n",
    "                output_dir = Path(str(paths.RESULT_CROSS_PATTERN_DIR).format(index = index)) / paths.TEST_Y_DATA,\n",
    "                )"
   ]
  },
  {
   "cell_type": "markdown",
   "metadata": {},
   "source": [
    "### Make fix grid y_data of each pattern"
   ]
  },
  {
   "cell_type": "markdown",
   "metadata": {},
   "source": [
    "Make fixed prediction point. "
   ]
  },
  {
   "cell_type": "code",
   "execution_count": null,
   "metadata": {},
   "outputs": [],
   "source": [
    "ResultMaker.make_fix_prediction_point()"
   ]
  },
  {
   "cell_type": "code",
   "execution_count": null,
   "metadata": {},
   "outputs": [],
   "source": [
    "for index in range(1,config.n_cross_validation+1):\n",
    "\n",
    "    train_list_path = Path(str(paths.RESULT_CROSS_PATTERN_DIR).format(index = index)) / template.x_train\n",
    "    test_list_path = Path(str(paths.RESULT_CROSS_PATTERN_DIR).format(index = index)) / template.x_test\n",
    "\n",
    "    with open(train_list_path) as f:\n",
    "        x_train_list = [int(s.rstrip()) for s in f.readlines()]\n",
    "\n",
    "    with open(test_list_path) as f:\n",
    "        x_test_list = [int(s.rstrip()) for s in f.readlines()]\n",
    "\n",
    "    TargetDataBuilder.make_new_ydatafile(\n",
    "                x_train_list = x_train_list,\n",
    "                output_dir = Path(str(paths.RESULT_CROSS_PATTERN_DIR).format(index = index)) / paths.Y_DATA,\n",
    "                input_path_prediction_point_dir = paths.CIRCLE_PREDICTION_POINT_DIR,\n",
    "                input_path_prediction_point_file = template.result_prediction_point_move_fix,\n",
    "                output_file = template.y_data_magnitude_fix,\n",
    "                prediction_point_list = list(range(config.n_prediction_points_init)),\n",
    "                n_prediction_points = config.n_prediction_points_init,\n",
    "                )\n",
    "\n",
    "    TargetDataBuilder.make_new_ydatafile(\n",
    "                x_train_list = x_test_list,\n",
    "                output_dir = Path(str(paths.RESULT_CROSS_PATTERN_DIR).format(index = index)) / paths.TEST_Y_DATA,\n",
    "                input_path_prediction_point_dir = paths.CIRCLE_PREDICTION_POINT_DIR,\n",
    "                input_path_prediction_point_file = template.result_prediction_point_move_fix,\n",
    "                output_file = template.y_data_magnitude_fix,\n",
    "                prediction_point_list = list(range(config.n_prediction_points_init)),\n",
    "                n_prediction_points = config.n_prediction_points_init,\n",
    "                )\n",
    "\n",
    "    TargetDataBuilder.make_new_ydatafile_vector(\n",
    "                x_train_list = x_train_list,\n",
    "                output_dir = Path(str(paths.RESULT_CROSS_PATTERN_DIR).format(index = index)) / paths.Y_DATA,\n",
    "                input_path_prediction_point_dir = paths.CIRCLE_PREDICTION_POINT_DIR,\n",
    "                input_path_prediction_point_file = template.result_prediction_point_move_fix,\n",
    "                output_file_theta = template.y_data_vector_theta_fix,\n",
    "                output_file_phi = template.y_data_vector_phi_fix,\n",
    "                prediction_point_list = list(range(config.n_prediction_points_init)),\n",
    "                n_prediction_points = config.n_prediction_points_init,\n",
    "                )\n",
    "\n",
    "    TargetDataBuilder.make_new_ydatafile_vector(\n",
    "                x_train_list = x_test_list,\n",
    "                output_dir = Path(str(paths.RESULT_CROSS_PATTERN_DIR).format(index = index)) / paths.TEST_Y_DATA,\n",
    "                input_path_prediction_point_dir = paths.CIRCLE_PREDICTION_POINT_DIR,\n",
    "                input_path_prediction_point_file = template.result_prediction_point_move_fix,\n",
    "                prediction_point_list = list(range(config.n_prediction_points_init)),\n",
    "                n_prediction_points = config.n_prediction_points_init,\n",
    "                )\n",
    "\n",
    "    TargetDataBuilder.make_new_ydatafile_efficiency(\n",
    "                x_train_list = x_train_list,\n",
    "                output_dir = Path(str(paths.RESULT_CROSS_PATTERN_DIR).format(index = index)) / paths.Y_DATA,\n",
    "                )\n",
    "\n",
    "    TargetDataBuilder.make_new_ydatafile_efficiency(\n",
    "                x_train_list = x_test_list,\n",
    "                output_dir = Path(str(paths.RESULT_CROSS_PATTERN_DIR).format(index = index)) / paths.TEST_Y_DATA,\n",
    "                )"
   ]
  },
  {
   "cell_type": "markdown",
   "metadata": {},
   "source": [
    "### Make model"
   ]
  },
  {
   "cell_type": "code",
   "execution_count": null,
   "metadata": {},
   "outputs": [],
   "source": [
    "for index in range(1,config.n_cross_validation+1):\n",
    "    input_path_train_list = Path(str(paths.RESULT_CROSS_PATTERN_DIR).format(index = index)) / template.x_train\n",
    "    x_train_data = Learning.make_x_train_data(input_path_train_list)\n",
    "\n",
    "    Learning.learning_magneticfield(\n",
    "                input_path_y_data = Path(str(paths.RESULT_CROSS_PATTERN_DIR).format(index = index)) / paths.Y_DATA / template.y_data_efficiency,\n",
    "                output_path = Path(str(paths.RESULT_CROSS_PATTERN_DIR).format(index = index)) / template.model,\n",
    "                x_train_data = x_train_data,\n",
    "                lr_record = 0.02,\n",
    "                iter_record = 1500,\n",
    "                inter_record = 400,\n",
    "                small_record = 10.0,\n",
    "                )\n",
    "\n",
    "    Learning.learning_magneticfield(\n",
    "                input_path_y_data = Path(str(paths.RESULT_CROSS_PATTERN_DIR).format(index = index)) / paths.Y_DATA / template.y_data_efficiency,\n",
    "                output_path = Path(str(paths.RESULT_CROSS_PATTERN_DIR).format(index = index)) / template.model_fix,\n",
    "                x_train_data = x_train_data,\n",
    "                lr_record = 0.0,\n",
    "                iter_record = 0,\n",
    "                inter_record = 0,\n",
    "                small_record = 1.0,\n",
    "                )\n"
   ]
  },
  {
   "cell_type": "markdown",
   "metadata": {},
   "source": [
    "### Make prediction result"
   ]
  },
  {
   "cell_type": "markdown",
   "metadata": {},
   "source": [
    "Make the magnetic field prediction result of adaptive exterior grid."
   ]
  },
  {
   "cell_type": "code",
   "execution_count": null,
   "metadata": {},
   "outputs": [],
   "source": [
    "for pattern in range(1,config.n_cross_validation+1):\n",
    "    Prediction.pre_magneticfield(\n",
    "            model_path = Path(str(paths.RESULT_CROSS_PATTERN_DIR).format(index = pattern)) / template.model_fix,\n",
    "            input_path_train_list = Path(str(paths.RESULT_CROSS_PATTERN_DIR).format(index = pattern)) / template.x_train,\n",
    "            input_path_test_list = Path(str(paths.RESULT_CROSS_PATTERN_DIR).format(index = pattern)) / template.x_test,\n",
    "            input_path_y_train_data = str(Path(str(paths.RESULT_CROSS_PATTERN_DIR).format(index = pattern)) / paths.Y_DATA / template.y_data_magnitude),\n",
    "            input_path_y_test_data = str(Path(str(paths.RESULT_CROSS_PATTERN_DIR).format(index = pattern)) / paths.TEST_Y_DATA / template.y_data_magnitude),\n",
    "            output_path = Path(str(paths.RESULT_CROSS_PATTERN_DIR).format(index = pattern)) / template.result_prediction_magnitude_move,\n",
    "            func_calculate_error = Prediction.calculate_error_square,\n",
    "            )"
   ]
  },
  {
   "cell_type": "markdown",
   "metadata": {},
   "source": [
    "Make the magnetic field prediction result of fix prediction point."
   ]
  },
  {
   "cell_type": "code",
   "execution_count": null,
   "metadata": {},
   "outputs": [],
   "source": [
    "for pattern in range(1,config.n_cross_validation+1):\n",
    "    Prediction.pre_magneticfield(\n",
    "            model_path = Path(str(paths.RESULT_CROSS_PATTERN_DIR).format(index = pattern)) / template.model_fix,\n",
    "            input_path_train_list = Path(str(paths.RESULT_CROSS_PATTERN_DIR).format(index = pattern)) / template.x_train,\n",
    "            input_path_test_list = Path(str(paths.RESULT_CROSS_PATTERN_DIR).format(index = pattern)) / template.x_test,\n",
    "            input_path_y_train_data = str(Path(str(paths.RESULT_CROSS_PATTERN_DIR).format(index = pattern)) / paths.Y_DATA / template.y_data_magnitude_fix),\n",
    "            input_path_y_test_data = str(Path(str(paths.RESULT_CROSS_PATTERN_DIR).format(index = pattern)) / paths.TEST_Y_DATA / template.y_data_magnitude_fix),\n",
    "            output_path = Path(str(paths.RESULT_CROSS_PATTERN_DIR).format(index = pattern)) / template.result_prediction_magnitude_no_move,\n",
    "            func_calculate_error = Prediction.calculate_error_square,\n",
    "            n_point = config.n_prediction_points_init,\n",
    "            )"
   ]
  },
  {
   "cell_type": "markdown",
   "metadata": {},
   "source": [
    "Make the vector prediction result of adaptive exterior grid."
   ]
  },
  {
   "cell_type": "code",
   "execution_count": null,
   "metadata": {},
   "outputs": [],
   "source": [
    "for pattern in range(1,config.n_cross_validation+1):\n",
    "    Prediction.pre_vector(\n",
    "        model_path = Path(str(paths.RESULT_CROSS_PATTERN_DIR).format(index = pattern)) / template.model_fix,\n",
    "        input_path_train_list = Path(str(paths.RESULT_CROSS_PATTERN_DIR).format(index = pattern)) / template.x_train,\n",
    "        input_path_test_list = Path(str(paths.RESULT_CROSS_PATTERN_DIR).format(index = pattern)) / template.x_test,\n",
    "        input_path_y_train_data_phi = str(Path(str(paths.RESULT_CROSS_PATTERN_DIR).format(index = pattern)) / paths.Y_DATA / template.y_data_vector_phi),\n",
    "        input_path_y_train_data_theta = str(Path(str(paths.RESULT_CROSS_PATTERN_DIR).format(index = pattern)) / paths.Y_DATA / template.y_data_vector_theta),\n",
    "        input_path_y_test_data_phi = str(Path(str(paths.RESULT_CROSS_PATTERN_DIR).format(index = pattern)) / paths.TEST_Y_DATA / template.y_data_vector_phi),\n",
    "        input_path_y_test_data_theta = str(Path(str(paths.RESULT_CROSS_PATTERN_DIR).format(index = pattern)) / paths.TEST_Y_DATA / template.y_data_vector_theta),\n",
    "        output_path = Path(str(paths.RESULT_CROSS_PATTERN_DIR).format(index = pattern)) / template.result_prediction_vector_move,\n",
    "        n_point = config.n_prediction_points_level1,\n",
    "        )"
   ]
  },
  {
   "cell_type": "markdown",
   "metadata": {},
   "source": [
    "Make the vector prediction result of fix prediction point."
   ]
  },
  {
   "cell_type": "code",
   "execution_count": null,
   "metadata": {},
   "outputs": [],
   "source": [
    "for pattern in range(1,config.n_cross_validation+1):\n",
    "    Prediction.pre_vector(\n",
    "        model_path = Path(str(paths.RESULT_CROSS_PATTERN_DIR).format(index = pattern)) / template.model_fix,\n",
    "        input_path_train_list = Path(str(paths.RESULT_CROSS_PATTERN_DIR).format(index = pattern)) / template.x_train,\n",
    "        input_path_test_list = Path(str(paths.RESULT_CROSS_PATTERN_DIR).format(index = pattern)) / template.x_test,\n",
    "        input_path_y_train_data_phi = str(Path(str(paths.RESULT_CROSS_PATTERN_DIR).format(index = pattern)) / paths.Y_DATA / template.y_data_vector_phi_fix),\n",
    "        input_path_y_train_data_theta = str(Path(str(paths.RESULT_CROSS_PATTERN_DIR).format(index = pattern)) / paths.Y_DATA / template.y_data_vector_theta_fix),\n",
    "        input_path_y_test_data_phi = str(Path(str(paths.RESULT_CROSS_PATTERN_DIR).format(index = pattern)) / paths.TEST_Y_DATA / template.y_data_vector_phi_fix),\n",
    "        input_path_y_test_data_theta = str(Path(str(paths.RESULT_CROSS_PATTERN_DIR).format(index = pattern)) / paths.TEST_Y_DATA / template.y_data_vector_theta_fix),\n",
    "        output_path = Path(str(paths.RESULT_CROSS_PATTERN_DIR).format(index = pattern)) / template.result_prediction_vector_no_move,\n",
    "        n_point = config.n_prediction_points_init,\n",
    "        )"
   ]
  },
  {
   "cell_type": "markdown",
   "metadata": {},
   "source": [
    "Combine the results of all patterns into a single file."
   ]
  },
  {
   "cell_type": "code",
   "execution_count": null,
   "metadata": {},
   "outputs": [],
   "source": [
    "ResultMaker.sort_list(\n",
    "    input_path_dir = paths.RESULT_CROSS_PATTERN_DIR,\n",
    "    input_path_file = template.result_prediction_magnitude_move,\n",
    "    output_path = paths.RESULT_CROSS_DIR / template.result_prediction_magnitude_move,\n",
    ")\n",
    "\n",
    "ResultMaker.sort_list(\n",
    "    input_path_dir = paths.RESULT_CROSS_PATTERN_DIR,\n",
    "    input_path_file = template.result_prediction_magnitude_no_move,\n",
    "    output_path = paths.RESULT_CROSS_DIR / template.result_prediction_magnitude_no_move,\n",
    ")\n",
    "\n",
    "ResultMaker.sort_list(\n",
    "    input_path_dir = paths.RESULT_CROSS_PATTERN_DIR,\n",
    "    input_path_file = template.result_prediction_vector_move,\n",
    "    output_path = paths.RESULT_CROSS_DIR / template.result_prediction_vector_move,\n",
    ")\n",
    "\n",
    "ResultMaker.sort_list(\n",
    "    input_path_dir = paths.RESULT_CROSS_PATTERN_DIR,\n",
    "    input_path_file = template.result_prediction_vector_no_move,\n",
    "    output_path = paths.RESULT_CROSS_DIR / template.result_prediction_vector_no_move,\n",
    ")"
   ]
  },
  {
   "cell_type": "markdown",
   "metadata": {},
   "source": [
    "Make graph of comparison magnitude and vector result."
   ]
  },
  {
   "cell_type": "code",
   "execution_count": null,
   "metadata": {},
   "outputs": [],
   "source": [
    "GraphMaker.magnitude_adaptive()"
   ]
  },
  {
   "cell_type": "code",
   "execution_count": null,
   "metadata": {},
   "outputs": [],
   "source": [
    "GraphMaker.vector_adaptive()"
   ]
  },
  {
   "cell_type": "markdown",
   "metadata": {},
   "source": [
    "## Make full data set result"
   ]
  },
  {
   "cell_type": "markdown",
   "metadata": {},
   "source": [
    "### Change postprocessing value and measure the error rate at each value\n",
    "Efficiency"
   ]
  },
  {
   "cell_type": "code",
   "execution_count": null,
   "metadata": {},
   "outputs": [],
   "source": [
    "for postprocessing in range(1,11):\n",
    "    Prediction.pre_magneticfield(\n",
    "        model_path = paths.LEARNING_MODEL_DIR / template.model,\n",
    "        input_path_train_list = paths.TRAIN_DIR / template.x_train_after_active_learning,\n",
    "        input_path_test_list = paths.TEST_DATA_DIR / template.x_test,\n",
    "        input_path_y_train_data = str(paths.Y_DATA_DIR / template.y_data_efficiency),\n",
    "        input_path_y_test_data = str(paths.TEST_Y_DATA_DIR / template.y_data_efficiency),\n",
    "        output_path = paths.RESULT_FULLDATA / template.result_prediction_efficiency_post_under.format(index = postprocessing),\n",
    "        func_calculate_error = Prediction.calculate_error,\n",
    "        n_point = 1,\n",
    "        input_path_circle_test = str(paths.TEST_CIRCLE_MOVE_X_DIR / template.test_circle_move),\n",
    "        postprocessing_value = 1 / postprocessing,\n",
    "        noise_scale_change = True,\n",
    "        )\n",
    "\n",
    "for postprocessing in range(1,11):\n",
    "    Prediction.pre_magneticfield(\n",
    "        model_path = paths.LEARNING_MODEL_DIR / template.model,\n",
    "        input_path_train_list = paths.TRAIN_DIR / template.x_train_after_active_learning,\n",
    "        input_path_test_list = paths.TEST_DATA_DIR / template.x_test,\n",
    "        input_path_y_train_data = str(paths.Y_DATA_DIR / template.y_data_efficiency),\n",
    "        input_path_y_test_data = str(paths.TEST_Y_DATA_DIR / template.y_data_efficiency),\n",
    "        output_path = paths.RESULT_FULLDATA / template.result_prediction_efficiency_post.format(index = postprocessing),\n",
    "        func_calculate_error = Prediction.calculate_error,\n",
    "        n_point = 1,\n",
    "        input_path_circle_test = str(paths.TEST_CIRCLE_MOVE_X_DIR / template.test_circle_move),\n",
    "        postprocessing_value = postprocessing,\n",
    "        noise_scale_change = True,\n",
    "        )"
   ]
  },
  {
   "cell_type": "markdown",
   "metadata": {},
   "source": [
    "Magnitude of magnetic field"
   ]
  },
  {
   "cell_type": "code",
   "execution_count": null,
   "metadata": {},
   "outputs": [],
   "source": [
    "for postprocessing in range(1,21):\n",
    "    Prediction.pre_magneticfield(\n",
    "        model_path = paths.LEARNING_MODEL_DIR / template.model,\n",
    "        input_path_train_list = paths.TRAIN_DIR / template.x_train_after_active_learning,\n",
    "        input_path_test_list = paths.TEST_DATA_DIR / template.x_test,\n",
    "        input_path_y_train_data = str(paths.Y_DATA_DIR / template.y_data_magnitude),\n",
    "        input_path_y_test_data = str(paths.TEST_Y_DATA_DIR / template.y_data_magnitude),\n",
    "        output_path = paths.RESULT_FULLDATA / template.result_prediction_magnitude_post.format(index = postprocessing),\n",
    "        func_calculate_error = Prediction.calculate_error,\n",
    "        n_point = config.n_prediction_points_level1,\n",
    "        input_path_circle_test = str(paths.TEST_CIRCLE_MOVE_X_DIR / template.test_circle_move),\n",
    "        postprocessing_value = postprocessing,\n",
    "        noise_scale_change = True,\n",
    "        )"
   ]
  },
  {
   "cell_type": "markdown",
   "metadata": {},
   "source": [
    "Vector of magnetic field"
   ]
  },
  {
   "cell_type": "code",
   "execution_count": null,
   "metadata": {},
   "outputs": [],
   "source": [
    "for postprocessing in range(1,11):\n",
    "    Prediction.pre_vector(\n",
    "        model_path = paths.LEARNING_MODEL_DIR / template.model,\n",
    "        input_path_train_list = paths.TRAIN_DIR / template.x_train_after_active_learning,\n",
    "        input_path_test_list = paths.TEST_DATA_DIR / template.x_test,\n",
    "        input_path_y_train_data_phi = str(paths.Y_DATA_DIR / template.y_data_vector_phi),\n",
    "        input_path_y_train_data_theta = str(paths.Y_DATA_DIR / template.y_data_vector_theta),\n",
    "        input_path_y_test_data_phi = str(paths.TEST_Y_DATA_DIR / template.y_data_vector_phi),\n",
    "        input_path_y_test_data_theta = str(paths.TEST_Y_DATA_DIR / template.y_data_vector_theta),\n",
    "        output_path = paths.RESULT_FULLDATA / template.result_prediction_vector_post_under.format(index = postprocessing),\n",
    "        n_point = config.n_prediction_points_level1,\n",
    "        input_path_circle_test = str(paths.TEST_CIRCLE_MOVE_X_DIR / template.test_circle_move),\n",
    "        postprocessing_value = 1 / postprocessing,\n",
    "        noise_scale_change = True,\n",
    "        )\n",
    "\n",
    "    Prediction.pre_vector(\n",
    "        model_path = paths.LEARNING_MODEL_DIR / template.model,\n",
    "        input_path_train_list = paths.TRAIN_DIR / template.x_train_after_active_learning,\n",
    "        input_path_test_list = paths.TEST_DATA_DIR / template.x_test,\n",
    "        input_path_y_train_data_phi = str(paths.Y_DATA_DIR / template.y_data_vector_phi),\n",
    "        input_path_y_train_data_theta = str(paths.Y_DATA_DIR / template.y_data_vector_theta),\n",
    "        input_path_y_test_data_phi = str(paths.TEST_Y_DATA_DIR / template.y_data_vector_phi),\n",
    "        input_path_y_test_data_theta = str(paths.TEST_Y_DATA_DIR / template.y_data_vector_theta),\n",
    "        output_path = paths.RESULT_FULLDATA / template.result_prediction_vector_post.format(index = postprocessing),\n",
    "        n_point = config.n_prediction_points_level1,\n",
    "        input_path_circle_test = str(paths.TEST_CIRCLE_MOVE_X_DIR / template.test_circle_move),\n",
    "        postprocessing_value = postprocessing,\n",
    "        noise_scale_change = True,\n",
    "        )"
   ]
  },
  {
   "cell_type": "markdown",
   "metadata": {},
   "source": [
    "### Make graph"
   ]
  },
  {
   "cell_type": "markdown",
   "metadata": {},
   "source": [
    "Result of changing postprocessing value"
   ]
  },
  {
   "cell_type": "code",
   "execution_count": null,
   "metadata": {},
   "outputs": [],
   "source": [
    "GraphMaker.magnitude_postprocessing_compare()"
   ]
  },
  {
   "cell_type": "code",
   "execution_count": null,
   "metadata": {},
   "outputs": [],
   "source": [
    "GraphMaker.efficiency_postprocessing_compare()"
   ]
  },
  {
   "cell_type": "markdown",
   "metadata": {},
   "source": [
    "Error map at optimum postprocessing value"
   ]
  },
  {
   "cell_type": "code",
   "execution_count": null,
   "metadata": {},
   "outputs": [],
   "source": [
    "GraphMaker.error_map(\n",
    "            input_path = paths.RESULT_FULLDATA / template.result_prediction_magnitude_post.format(index = 20),\n",
    "            type_error = \"magnitude\",\n",
    "            vmax = 0.20,\n",
    "            )"
   ]
  },
  {
   "cell_type": "code",
   "execution_count": null,
   "metadata": {},
   "outputs": [],
   "source": [
    "GraphMaker.error_map(\n",
    "            input_path = paths.RESULT_FULLDATA / template.result_prediction_efficiency_post_under.format(index = 6),\n",
    "            type_error = \"efficiency\",\n",
    "            vmax = 0.04,\n",
    "            )"
   ]
  },
  {
   "cell_type": "markdown",
   "metadata": {},
   "source": [
    "Error map at no postprocessing value"
   ]
  },
  {
   "cell_type": "code",
   "execution_count": null,
   "metadata": {},
   "outputs": [],
   "source": [
    "GraphMaker.error_map(\n",
    "            input_path = paths.RESULT_FULLDATA / template.result_prediction_magnitude_post.format(index = 1),\n",
    "            type_error = \"magnitude\",\n",
    "            vmax = 1.0,\n",
    "            cmap = \"RdYlBu_r\",\n",
    "            )\n",
    "GraphMaker.error_map(\n",
    "            input_path = paths.RESULT_FULLDATA / template.result_prediction_efficiency_post_under.format(index = 1),\n",
    "            type_error = \"efficiency\",\n",
    "            vmax = 0.08,\n",
    "            cmap = \"RdYlBu_r\",\n",
    "            )\n",
    "GraphMaker.error_map(\n",
    "            input_path = paths.RESULT_FULLDATA / template.result_prediction_vector_post_under.format(index = 1),\n",
    "            type_error = \"vector\",\n",
    "            vmax = 100,\n",
    "            cmap = \"RdYlBu_r\",\n",
    "            )"
   ]
  },
  {
   "cell_type": "markdown",
   "metadata": {},
   "source": [
    "## Make magnitude map"
   ]
  },
  {
   "cell_type": "markdown",
   "metadata": {},
   "source": [
    "### Make simulation result\n",
    "Make ferrite shield parameter."
   ]
  },
  {
   "cell_type": "code",
   "execution_count": null,
   "metadata": {},
   "outputs": [],
   "source": [
    "MakeYData.make_ferrite_parameter()"
   ]
  },
  {
   "cell_type": "markdown",
   "metadata": {},
   "source": [
    "Make prediction point."
   ]
  },
  {
   "cell_type": "code",
   "execution_count": null,
   "metadata": {},
   "outputs": [],
   "source": [
    "MakeYData.make_prediction_point()"
   ]
  },
  {
   "cell_type": "markdown",
   "metadata": {},
   "source": [
    "Do FEKO and get the simulated result."
   ]
  },
  {
   "cell_type": "code",
   "execution_count": null,
   "metadata": {},
   "outputs": [],
   "source": [
    "for number in range(625):\n",
    "    FekoRunner.run_solver(\n",
    "        number = number,\n",
    "        path_save_dir = paths.RESULT_MAGNITUDE_MAP / \"circle_raw_data\",\n",
    "        path_circle_dir = paths.RESULT_MAGNITUDE_MAP / \"circle_parameter\",\n",
    "        path_circle_file = template.circle_move_param,\n",
    "        )"
   ]
  },
  {
   "cell_type": "markdown",
   "metadata": {},
   "source": [
    "Make y_data."
   ]
  },
  {
   "cell_type": "code",
   "execution_count": null,
   "metadata": {},
   "outputs": [],
   "source": [
    "TargetDataBuilder.make_new_ydatafile(\n",
    "            x_train_list = list(range(625)),\n",
    "            output_dir = paths.RESULT_MAGNITUDE_MAP / paths.Y_DATA,\n",
    "            input_path_raw_data_dir = paths.RESULT_MAGNITUDE_MAP / \"circle_raw_data\",\n",
    "            input_path_prediction_point_dir = paths.RESULT_MAGNITUDE_MAP / \"circle_prediction_point\",\n",
    "            input_path_prediction_point_file = template.circle_prediction_point_move,\n",
    "            prediction_point_list = [0],\n",
    "            n_prediction_points = 1,\n",
    "            )\n",
    "\n",
    "TargetDataBuilder.make_new_ydatafile_vector(\n",
    "            x_train_list = list(range(625)),\n",
    "            output_dir = paths.RESULT_MAGNITUDE_MAP / paths.Y_DATA,\n",
    "            input_path_raw_data_dir = paths.RESULT_MAGNITUDE_MAP / \"circle_raw_data\",\n",
    "            input_path_prediction_point_dir = paths.RESULT_MAGNITUDE_MAP / \"circle_prediction_point\",\n",
    "            input_path_prediction_point_file = template.circle_prediction_point_move,\n",
    "            prediction_point_list = [0],\n",
    "            n_prediction_points = 1,\n",
    "            )\n",
    "\n",
    "TargetDataBuilder.make_new_ydatafile_efficiency(\n",
    "            x_train_list = list(range(625)),\n",
    "            output_dir = paths.RESULT_MAGNITUDE_MAP / paths.Y_DATA,\n",
    "            input_path_raw_data_dir = paths.RESULT_MAGNITUDE_MAP / \"circle_raw_data\",\n",
    "            )"
   ]
  },
  {
   "cell_type": "markdown",
   "metadata": {},
   "source": [
    "### Make graph"
   ]
  },
  {
   "cell_type": "code",
   "execution_count": null,
   "metadata": {},
   "outputs": [],
   "source": [
    "GraphMaker.magnitude_map_magnetic(1)\n",
    "GraphMaker.magnitude_map_magnetic(20)\n",
    "GraphMaker.magnitude_map_efficiency(1)\n",
    "GraphMaker.magnitude_map_efficiency(1/6)\n"
   ]
  },
  {
   "cell_type": "markdown",
   "metadata": {},
   "source": [
    "## Time measurement"
   ]
  },
  {
   "cell_type": "markdown",
   "metadata": {},
   "source": [
    "Measure simulation time."
   ]
  },
  {
   "cell_type": "code",
   "execution_count": null,
   "metadata": {},
   "outputs": [],
   "source": [
    "ResultMaker.measure_simulation_time()"
   ]
  },
  {
   "cell_type": "markdown",
   "metadata": {},
   "source": [
    "Measure this method time."
   ]
  },
  {
   "cell_type": "code",
   "execution_count": null,
   "metadata": {},
   "outputs": [],
   "source": [
    "shield_number = 90\n",
    "Visualize = Visualize()\n",
    "Visualize.visualize(shield_number, measure_time_mode = True)"
   ]
  },
  {
   "cell_type": "markdown",
   "metadata": {},
   "source": [
    "## Compare results by ROI and movement"
   ]
  },
  {
   "cell_type": "code",
   "execution_count": null,
   "metadata": {},
   "outputs": [],
   "source": [
    "GraphMaker.changeEMfieldByRoiAndMovement(np.array([0.0,-0.15,0.36]), relativeMove = True)\n",
    "# Max value:  12.750459400893504\n",
    "# Min value:  4.340637760946816"
   ]
  },
  {
   "cell_type": "code",
   "execution_count": null,
   "metadata": {},
   "outputs": [],
   "source": [
    "GraphMaker.changeEMfieldByRoiAndMovement(np.array([0.0, -0.245, 0.12]))\n",
    "# Max value:  16.560321960968945\n",
    "# Min value:  5.469208228532827"
   ]
  },
  {
   "cell_type": "code",
   "execution_count": null,
   "metadata": {},
   "outputs": [],
   "source": [
    "GraphMaker.changeEfficiencyByRoiAndMovement()"
   ]
  },
  {
   "cell_type": "code",
   "execution_count": null,
   "metadata": {},
   "outputs": [],
   "source": [
    "GraphMaker.changeEfficiencyByDoubleRoi()"
   ]
  }
 ],
 "metadata": {
  "kernelspec": {
   "display_name": "emfieldml-itZ_loVF-py3.11",
   "language": "python",
   "name": "python3"
  },
  "language_info": {
   "codemirror_mode": {
    "name": "ipython",
    "version": 3
   },
   "file_extension": ".py",
   "mimetype": "text/x-python",
   "name": "python",
   "nbconvert_exporter": "python",
   "pygments_lexer": "ipython3",
   "version": "3.11.0"
  }
 },
 "nbformat": 4,
 "nbformat_minor": 2
}
